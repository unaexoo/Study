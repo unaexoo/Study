{
 "cells": [
  {
   "cell_type": "code",
   "execution_count": 1,
   "metadata": {},
   "outputs": [
    {
     "name": "stderr",
     "output_type": "stream",
     "text": [
      "c:\\brain_tumor\\venv\\Lib\\site-packages\\tqdm\\auto.py:21: TqdmWarning: IProgress not found. Please update jupyter and ipywidgets. See https://ipywidgets.readthedocs.io/en/stable/user_install.html\n",
      "  from .autonotebook import tqdm as notebook_tqdm\n"
     ]
    },
    {
     "name": "stdout",
     "output_type": "stream",
     "text": [
      "2.5.1+cu118\n",
      "4.47.0\n",
      "2.7.18\n"
     ]
    }
   ],
   "source": [
    "import torch\n",
    "import transformers\n",
    "from fastai.text.all import *\n",
    "import fastai\n",
    "import re\n",
    "import os\n",
    "from transformers import PreTrainedTokenizerFast,AutoModelWithLMHead\n",
    "import chardet\n",
    "device = \"cuda\" if torch.cuda.is_available() else \"cpu\"\n",
    "\n",
    "print(torch.__version__)\n",
    "print(transformers.__version__)\n",
    "print( fastai.__version__)"
   ]
  },
  {
   "cell_type": "code",
   "execution_count": 2,
   "metadata": {},
   "outputs": [
    {
     "name": "stderr",
     "output_type": "stream",
     "text": [
      "The tokenizer class you load from this checkpoint is not the same type as the class this function is called from. It may result in unexpected tokenization. \n",
      "The tokenizer class you load from this checkpoint is 'GPT2Tokenizer'. \n",
      "The class this function is called from is 'PreTrainedTokenizerFast'.\n",
      "c:\\brain_tumor\\venv\\Lib\\site-packages\\transformers\\models\\auto\\modeling_auto.py:1838: FutureWarning: The class `AutoModelWithLMHead` is deprecated and will be removed in a future version. Please use `AutoModelForCausalLM` for causal language models, `AutoModelForMaskedLM` for masked language models and `AutoModelForSeq2SeqLM` for encoder-decoder models.\n",
      "  warnings.warn(\n"
     ]
    },
    {
     "name": "stdout",
     "output_type": "stream",
     "text": [
      "['▁안녕', '하', '세', '요.', '▁한국어', '▁G', 'P', 'T', '-2', '▁입', '니다.', '😤', ':)', 'l^o']\n",
      "성냥팔이 소녀는 추운 날씨에 성냥을 팔기 위해 나섰어요!\n",
      "그런데 그게 웬일입니까?\n",
      "아니, 저도 모르게, 아저씨가 갑자기 뭔가 이상한 소리를 하더군요.\n",
      "\"아, 아니야. 이거 뭐예요.\"\n",
      "성냥 파는 가게의 주인은 아주머니에게 이렇게 말했습니다.\n",
      "'뭐야, 이런 거 있잖소.'\n",
      "그러자 손님은 깜짝 놀라며 고개를 끄덕였어요.\n",
      "그리고 잠시 후, 주인 할머니께서 말씀하셨지요.\n",
      "'이건 정말 장난이야! 네놈들이 왜 그렇게 많은 돈을 벌었지? 너희들은 모두 다 도둑질하고 있어.\"\n",
      "\n"
     ]
    }
   ],
   "source": [
    "tokenizer = PreTrainedTokenizerFast.from_pretrained(\"skt/kogpt2-base-v2\",\n",
    "  bos_token='</s>', eos_token='</s>', unk_token='<unk>',\n",
    "  pad_token='<pad>', mask_token='<mask>') \n",
    "model = AutoModelWithLMHead.from_pretrained(\"skt/kogpt2-base-v2\")\n",
    "\n",
    "#test tokenizer\n",
    "print(tokenizer.tokenize(\"안녕하세요. 한국어 GPT-2 입니다.😤:)l^o\"))\n",
    "\n",
    "#test model ouput\n",
    "text = \"\"\"성냥팔이 소녀는 추운 날씨에 성냥을 팔기 위해 나섰어요\"\"\"\n",
    "input_ids = tokenizer.encode(text)\n",
    "gen_ids = model.generate(torch.tensor([input_ids]),\n",
    "                           max_length=128,\n",
    "                           repetition_penalty=2.0,\n",
    "                           pad_token_id=tokenizer.pad_token_id,\n",
    "                           eos_token_id=tokenizer.eos_token_id,\n",
    "                           bos_token_id=tokenizer.bos_token_id,\n",
    "                           use_cache=True\n",
    "                        )\n",
    "generated = tokenizer.decode(gen_ids[0,:].tolist())\n",
    "print(generated)"
   ]
  },
  {
   "cell_type": "code",
   "execution_count": 3,
   "metadata": {},
   "outputs": [
    {
     "name": "stdout",
     "output_type": "stream",
     "text": [
      "Detected encoding: utf-8\n",
      "File read successfully.\n",
      "Text preprocessing completed.\n"
     ]
    }
   ],
   "source": [
    "def clean_text(text):\n",
    "    text = re.sub(r\"※.*\", \"\", text)\n",
    "    text = re.sub(r\"https?://\\S+\", \"\", text)\n",
    "    text = re.sub(r'[^\\w\\sㄱ-힣,.!?]', '', text)\n",
    "    text = re.sub(r'\\s+', ' ', text).strip()\n",
    "    text = re.sub(r'읽어주셔서 감사합니다', '', text)\n",
    "    text = re.sub(r'동화 끝', '', text)\n",
    "    text = re.sub(r'^\\d+\\.', '', text)\n",
    "    text = re.sub(r'네이버지식인참조 네이버스캐스트영어동화열람불가 원문1819년 링크','',text)\n",
    "    text = re.sub(r'네이버스캐스트영어동화열람불가','',text)\n",
    "    text = re.sub(r'링크','',text)\n",
    "    text = re.sub(r'링크','',text)\n",
    "    return text\n",
    "\n",
    "def split_sentences(text):\n",
    "    sentences = re.split(r'(?<=[.!?])\\s+', text)\n",
    "    return [sent.strip() for sent in sentences if sent.strip()]\n",
    "\n",
    "def preprocess_text(file_path):\n",
    "    try:\n",
    "        with open(file_path, 'rb') as f:\n",
    "            result = chardet.detect(f.read())\n",
    "        encoding = result['encoding']\n",
    "        print(f\"Detected encoding: {encoding}\")\n",
    "\n",
    "        with open(file_path, 'r', encoding=encoding) as f:\n",
    "            text = f.read()\n",
    "\n",
    "        print(\"File read successfully.\")\n",
    "        cleaned_text = clean_text(text)\n",
    "        sentences = split_sentences(cleaned_text)\n",
    "\n",
    "        return \"\\n\".join(sentences)\n",
    "\n",
    "    except Exception as e:\n",
    "        print(f\"Error: {e}\")\n",
    "        return \"\"\n",
    "\n",
    "file_path = 'book.txt'\n",
    "\n",
    "preprocessed_text = preprocess_text(file_path)\n",
    "if preprocessed_text:\n",
    "    print(\"Text preprocessing completed.\")\n",
    "else:\n",
    "    print(\"Text preprocessing failed.\")\n"
   ]
  },
  {
   "cell_type": "code",
   "execution_count": 4,
   "metadata": {},
   "outputs": [],
   "source": [
    "class TransformersTokenizer(Transform):\n",
    "    def __init__(self, tokenizer): self.tokenizer = tokenizer\n",
    "    def encodes(self, x): \n",
    "        toks = self.tokenizer.tokenize(x)\n",
    "        return tensor(self.tokenizer.convert_tokens_to_ids(toks))\n",
    "    def decodes(self, x): return TitledStr(self.tokenizer.decode(x.cpu().numpy()))\n",
    "\n",
    "train=preprocessed_text[:int(len(preprocessed_text)*0.9)]\n",
    "test=preprocessed_text[int(len(preprocessed_text)*0.9):]\n",
    "splits = [[0],[1]]\n",
    "\n",
    "tls = TfmdLists([train,test], TransformersTokenizer(tokenizer), splits=splits, dl_type=LMDataLoader)\n",
    "batch,seq_len = 8,256\n",
    "dls = tls.dataloaders(bs=batch, seq_len=seq_len)\n",
    "# dls.show_batch(max_n=2)"
   ]
  },
  {
   "cell_type": "code",
   "execution_count": 5,
   "metadata": {},
   "outputs": [
    {
     "data": {
      "text/html": [
       "\n",
       "<style>\n",
       "    /* Turns off some styling */\n",
       "    progress {\n",
       "        /* gets rid of default border in Firefox and Opera. */\n",
       "        border: none;\n",
       "        /* Needs to be in here for Safari polyfill so background images work as expected. */\n",
       "        background-size: auto;\n",
       "    }\n",
       "    progress:not([value]), progress:not([value])::-webkit-progress-bar {\n",
       "        background: repeating-linear-gradient(45deg, #7e7e7e, #7e7e7e 10px, #5c5c5c 10px, #5c5c5c 20px);\n",
       "    }\n",
       "    .progress-bar-interrupted, .progress-bar-interrupted::-webkit-progress-bar {\n",
       "        background: #F44336;\n",
       "    }\n",
       "</style>\n"
      ],
      "text/plain": [
       "<IPython.core.display.HTML object>"
      ]
     },
     "metadata": {},
     "output_type": "display_data"
    },
    {
     "data": {
      "text/html": [],
      "text/plain": [
       "<IPython.core.display.HTML object>"
      ]
     },
     "metadata": {},
     "output_type": "display_data"
    },
    {
     "name": "stderr",
     "output_type": "stream",
     "text": [
      "c:\\brain_tumor\\venv\\Lib\\site-packages\\fastai\\learner.py:53: FutureWarning: You are using `torch.load` with `weights_only=False` (the current default value), which uses the default pickle module implicitly. It is possible to construct malicious pickle data which will execute arbitrary code during unpickling (See https://github.com/pytorch/pytorch/blob/main/SECURITY.md#untrusted-models for more details). In a future release, the default value for `weights_only` will be flipped to `True`. This limits the functions that could be executed during unpickling. Arbitrary objects will no longer be allowed to be loaded via this mode unless they are explicitly allowlisted by the user via `torch.serialization.add_safe_globals`. We recommend you start setting `weights_only=True` for any use case where you don't have full control of the loaded file. Please open an issue on GitHub for any issues related to this experimental feature.\n",
      "  state = torch.load(file, map_location=device, **torch_load_kwargs)\n"
     ]
    },
    {
     "name": "stdout",
     "output_type": "stream",
     "text": [
      "SuggestedLRs(valley=3.630780702224001e-05)\n"
     ]
    },
    {
     "data": {
      "text/html": [
       "\n",
       "<style>\n",
       "    /* Turns off some styling */\n",
       "    progress {\n",
       "        /* gets rid of default border in Firefox and Opera. */\n",
       "        border: none;\n",
       "        /* Needs to be in here for Safari polyfill so background images work as expected. */\n",
       "        background-size: auto;\n",
       "    }\n",
       "    progress:not([value]), progress:not([value])::-webkit-progress-bar {\n",
       "        background: repeating-linear-gradient(45deg, #7e7e7e, #7e7e7e 10px, #5c5c5c 10px, #5c5c5c 20px);\n",
       "    }\n",
       "    .progress-bar-interrupted, .progress-bar-interrupted::-webkit-progress-bar {\n",
       "        background: #F44336;\n",
       "    }\n",
       "</style>\n"
      ],
      "text/plain": [
       "<IPython.core.display.HTML object>"
      ]
     },
     "metadata": {},
     "output_type": "display_data"
    },
    {
     "data": {
      "text/html": [
       "<table border=\"1\" class=\"dataframe\">\n",
       "  <thead>\n",
       "    <tr style=\"text-align: left;\">\n",
       "      <th>epoch</th>\n",
       "      <th>train_loss</th>\n",
       "      <th>valid_loss</th>\n",
       "      <th>perplexity</th>\n",
       "      <th>time</th>\n",
       "    </tr>\n",
       "  </thead>\n",
       "  <tbody>\n",
       "    <tr>\n",
       "      <td>0</td>\n",
       "      <td>4.138207</td>\n",
       "      <td>3.968688</td>\n",
       "      <td>52.915085</td>\n",
       "      <td>00:53</td>\n",
       "    </tr>\n",
       "    <tr>\n",
       "      <td>1</td>\n",
       "      <td>3.863968</td>\n",
       "      <td>3.885596</td>\n",
       "      <td>48.695957</td>\n",
       "      <td>00:52</td>\n",
       "    </tr>\n",
       "    <tr>\n",
       "      <td>2</td>\n",
       "      <td>3.564215</td>\n",
       "      <td>3.876297</td>\n",
       "      <td>48.245255</td>\n",
       "      <td>00:53</td>\n",
       "    </tr>\n",
       "    <tr>\n",
       "      <td>3</td>\n",
       "      <td>3.270773</td>\n",
       "      <td>3.906835</td>\n",
       "      <td>49.741276</td>\n",
       "      <td>00:52</td>\n",
       "    </tr>\n",
       "    <tr>\n",
       "      <td>4</td>\n",
       "      <td>3.017443</td>\n",
       "      <td>3.930007</td>\n",
       "      <td>50.907345</td>\n",
       "      <td>00:52</td>\n",
       "    </tr>\n",
       "    <tr>\n",
       "      <td>5</td>\n",
       "      <td>2.798434</td>\n",
       "      <td>3.955456</td>\n",
       "      <td>52.219528</td>\n",
       "      <td>00:52</td>\n",
       "    </tr>\n",
       "    <tr>\n",
       "      <td>6</td>\n",
       "      <td>2.622091</td>\n",
       "      <td>3.986397</td>\n",
       "      <td>53.860493</td>\n",
       "      <td>00:53</td>\n",
       "    </tr>\n",
       "    <tr>\n",
       "      <td>7</td>\n",
       "      <td>2.486773</td>\n",
       "      <td>3.995488</td>\n",
       "      <td>54.352367</td>\n",
       "      <td>00:53</td>\n",
       "    </tr>\n",
       "    <tr>\n",
       "      <td>8</td>\n",
       "      <td>2.398636</td>\n",
       "      <td>3.995259</td>\n",
       "      <td>54.339890</td>\n",
       "      <td>00:53</td>\n",
       "    </tr>\n",
       "    <tr>\n",
       "      <td>9</td>\n",
       "      <td>2.359066</td>\n",
       "      <td>3.992496</td>\n",
       "      <td>54.189991</td>\n",
       "      <td>00:53</td>\n",
       "    </tr>\n",
       "  </tbody>\n",
       "</table>"
      ],
      "text/plain": [
       "<IPython.core.display.HTML object>"
      ]
     },
     "metadata": {},
     "output_type": "display_data"
    },
    {
     "data": {
      "image/png": "[encoded data removed]",
      "text/plain": [
       "<Figure size 640x480 with 1 Axes>"
      ]
     },
     "metadata": {},
     "output_type": "display_data"
    }
   ],
   "source": [
    "class DropOutput(Callback):\n",
    "    def after_pred(self): self.learn.pred = self.pred[0]\n",
    "        \n",
    "learn = Learner(dls, model, loss_func=CrossEntropyLossFlat(), cbs=[DropOutput], metrics=[Perplexity()])\n",
    "\n",
    "lr=learn.lr_find()\n",
    "print(lr)\n",
    "learn.fit_one_cycle(10, lr_max=lr)\n",
    "\n",
    "# learn.fine_tune(3)    "
   ]
  },
  {
   "cell_type": "code",
   "execution_count": 6,
   "metadata": {},
   "outputs": [
    {
     "name": "stdout",
     "output_type": "stream",
     "text": [
      "성냥팔이 소녀는 추운 날씨에 성냥을 팔기 위해 나섰어요원문소년의 할머니 집을 지나갈 때면 항상 이렇게 말하곤 했어요.\n",
      "할머니, 이게 다 무슨 일이랍니까?\n",
      "그럼요,라며 소년은 대답했어요.\n",
      "하지만 그건 네가 한 번 더 외출할 때마다 하는 소리였지요.\n",
      "너를 따뜻하게 해주마.\n",
      "그래서 그녀는 밖으로 나가 땔감을 구하러 숲으로 들어갔답니다.\n",
      "숲에서 가장 가까이에 있는 오두막집에 도착해 보니 거기엔 모두들 잠들어 있었죠.\n",
      "오두막은 온통 금으로 만들어져 있었고 벽난로 위에는 은과 금을 상징하는 글씨체로 된 큰 홀 하나가 서 있었는데, 아무도 눈을\n"
     ]
    }
   ],
   "source": [
    "\n",
    "def generate_text_and_split(prompt, model, tokenizer, max_length=128):\n",
    "    prompt_ids = tokenizer.encode(prompt)\n",
    "    inp = torch.tensor(prompt_ids)[None].to(device)\n",
    "    gen_ids = model.generate(\n",
    "        inp,\n",
    "        max_length=max_length,\n",
    "        pad_token_id=tokenizer.pad_token_id,\n",
    "        eos_token_id=tokenizer.eos_token_id,\n",
    "        bos_token_id=tokenizer.bos_token_id,\n",
    "        repetition_penalty=2.0,\n",
    "        use_cache=True,\n",
    "    )\n",
    "    generated = tokenizer.decode(gen_ids[0].cpu().numpy())\n",
    "    sentences = split_sentences(generated)\n",
    "    for sentence in sentences:\n",
    "        print(sentence)\n",
    "    \n",
    "    return sentences\n",
    "\n",
    "\n",
    "prompt = \"\"\"성냥팔이 소녀는 추운 날씨에 성냥을 팔기 위해 나섰어요\"\"\"\n",
    "generated_sentences = generate_text_and_split(prompt, model, tokenizer)\n"
   ]
  },
  {
   "cell_type": "code",
   "execution_count": 7,
   "metadata": {},
   "outputs": [],
   "source": [
    "learn = Learner(dls, model, loss_func=CrossEntropyLossFlat(), metrics=[Perplexity()])"
   ]
  },
  {
   "cell_type": "code",
   "execution_count": 8,
   "metadata": {},
   "outputs": [],
   "source": [
    "learn.model.save_pretrained(\"kogpt2novel_backup\")"
   ]
  }
 ],
 "metadata": {
  "kernelspec": {
   "display_name": "venv",
   "language": "python",
   "name": "python3"
  },
  "language_info": {
   "codemirror_mode": {
    "name": "ipython",
    "version": 3
   },
   "file_extension": ".py",
   "mimetype": "text/x-python",
   "name": "python",
   "nbconvert_exporter": "python",
   "pygments_lexer": "ipython3",
   "version": "3.11.0"
  }
 },
 "nbformat": 4,
 "nbformat_minor": 2
}
