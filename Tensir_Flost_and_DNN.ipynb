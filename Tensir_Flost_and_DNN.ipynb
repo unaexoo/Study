{
  "nbformat": 4,
  "nbformat_minor": 0,
  "metadata": {
    "colab": {
      "provenance": [],
      "gpuType": "T4",
      "authorship_tag": "ABX9TyMEdrdBE5NszsV8ZjMk5AaX",
      "include_colab_link": true
    },
    "kernelspec": {
      "name": "python3",
      "display_name": "Python 3"
    },
    "language_info": {
      "name": "python"
    },
    "accelerator": "GPU"
  },
  "cells": [
    {
      "cell_type": "markdown",
      "metadata": {
        "id": "view-in-github",
        "colab_type": "text"
      },
      "source": [
        "<a href=\"https://colab.research.google.com/github/unaexoo/Study/blob/main/Tensir_Flost_and_DNN.ipynb\" target=\"_parent\"><img src=\"https://colab.research.google.com/assets/colab-badge.svg\" alt=\"Open In Colab\"/></a>"
      ]
    },
    {
      "cell_type": "code",
      "source": [
        "%reset -f"
      ],
      "metadata": {
        "id": "FxKJjs4o-Niw"
      },
      "execution_count": 1,
      "outputs": []
    },
    {
      "cell_type": "code",
      "execution_count": 2,
      "metadata": {
        "colab": {
          "base_uri": "https://localhost:8080/"
        },
        "id": "Wx4hNUs-5AGK",
        "outputId": "2a2b803f-95a4-49ac-8a95-bfeeb5b7d6d2"
      },
      "outputs": [
        {
          "output_type": "stream",
          "name": "stdout",
          "text": [
            "Downloading data from https://storage.googleapis.com/tensorflow/tf-keras-datasets/mnist.npz\n",
            "11490434/11490434 [==============================] - 1s 0us/step\n",
            "Raw MINIST Data : \n",
            "(60000, 28, 28)\n",
            "(60000,)\n",
            "(10000, 28, 28)\n",
            "(10000,)\n"
          ]
        }
      ],
      "source": [
        "from keras.datasets import mnist\n",
        "\n",
        "(X_train, y_train), (X_test, y_test) = mnist.load_data()\n",
        "print(\"Raw MINIST Data : \")\n",
        "print(X_train.shape)\n",
        "print(y_train.shape)\n",
        "print(X_test.shape)\n",
        "print(y_test.shape)"
      ]
    },
    {
      "cell_type": "code",
      "source": [
        "X_train = X_train.reshape(60000, 784)\n",
        "X_test = X_test.reshape(10000, 784)\n",
        "print(\"\\nFlatten MNIST Data : \")\n",
        "print(X_train.shape)\n",
        "print(X_test.shape)"
      ],
      "metadata": {
        "colab": {
          "base_uri": "https://localhost:8080/"
        },
        "id": "AQhuOITP-sc4",
        "outputId": "b28751e5-7333-4447-9e4a-a93cfbea5b4b"
      },
      "execution_count": 3,
      "outputs": [
        {
          "output_type": "stream",
          "name": "stdout",
          "text": [
            "\n",
            "Flatten MNIST Data : \n",
            "(60000, 784)\n",
            "(10000, 784)\n"
          ]
        }
      ]
    },
    {
      "cell_type": "code",
      "source": [
        "X_train = X_train.astype('float32')\n",
        "X_test = X_test.astype('float32')\n",
        "print(\"\\nNormalized MNIST Data : \")\n",
        "print(X_train[0,:])\n",
        "print(X_test[0,:])"
      ],
      "metadata": {
        "colab": {
          "base_uri": "https://localhost:8080/"
        },
        "id": "Vl9Ynm9I_CvR",
        "outputId": "d8aed4f0-9d74-47cf-c7c0-4087330252ad"
      },
      "execution_count": 4,
      "outputs": [
        {
          "output_type": "stream",
          "name": "stdout",
          "text": [
            "\n",
            "Normalized MNIST Data : \n",
            "[  0.   0.   0.   0.   0.   0.   0.   0.   0.   0.   0.   0.   0.   0.\n",
            "   0.   0.   0.   0.   0.   0.   0.   0.   0.   0.   0.   0.   0.   0.\n",
            "   0.   0.   0.   0.   0.   0.   0.   0.   0.   0.   0.   0.   0.   0.\n",
            "   0.   0.   0.   0.   0.   0.   0.   0.   0.   0.   0.   0.   0.   0.\n",
            "   0.   0.   0.   0.   0.   0.   0.   0.   0.   0.   0.   0.   0.   0.\n",
            "   0.   0.   0.   0.   0.   0.   0.   0.   0.   0.   0.   0.   0.   0.\n",
            "   0.   0.   0.   0.   0.   0.   0.   0.   0.   0.   0.   0.   0.   0.\n",
            "   0.   0.   0.   0.   0.   0.   0.   0.   0.   0.   0.   0.   0.   0.\n",
            "   0.   0.   0.   0.   0.   0.   0.   0.   0.   0.   0.   0.   0.   0.\n",
            "   0.   0.   0.   0.   0.   0.   0.   0.   0.   0.   0.   0.   0.   0.\n",
            "   0.   0.   0.   0.   0.   0.   0.   0.   0.   0.   0.   0.   3.  18.\n",
            "  18.  18. 126. 136. 175.  26. 166. 255. 247. 127.   0.   0.   0.   0.\n",
            "   0.   0.   0.   0.   0.   0.   0.   0.  30.  36.  94. 154. 170. 253.\n",
            " 253. 253. 253. 253. 225. 172. 253. 242. 195.  64.   0.   0.   0.   0.\n",
            "   0.   0.   0.   0.   0.   0.   0.  49. 238. 253. 253. 253. 253. 253.\n",
            " 253. 253. 253. 251.  93.  82.  82.  56.  39.   0.   0.   0.   0.   0.\n",
            "   0.   0.   0.   0.   0.   0.   0.  18. 219. 253. 253. 253. 253. 253.\n",
            " 198. 182. 247. 241.   0.   0.   0.   0.   0.   0.   0.   0.   0.   0.\n",
            "   0.   0.   0.   0.   0.   0.   0.   0.  80. 156. 107. 253. 253. 205.\n",
            "  11.   0.  43. 154.   0.   0.   0.   0.   0.   0.   0.   0.   0.   0.\n",
            "   0.   0.   0.   0.   0.   0.   0.   0.   0.  14.   1. 154. 253.  90.\n",
            "   0.   0.   0.   0.   0.   0.   0.   0.   0.   0.   0.   0.   0.   0.\n",
            "   0.   0.   0.   0.   0.   0.   0.   0.   0.   0.   0. 139. 253. 190.\n",
            "   2.   0.   0.   0.   0.   0.   0.   0.   0.   0.   0.   0.   0.   0.\n",
            "   0.   0.   0.   0.   0.   0.   0.   0.   0.   0.   0.  11. 190. 253.\n",
            "  70.   0.   0.   0.   0.   0.   0.   0.   0.   0.   0.   0.   0.   0.\n",
            "   0.   0.   0.   0.   0.   0.   0.   0.   0.   0.   0.   0.  35. 241.\n",
            " 225. 160. 108.   1.   0.   0.   0.   0.   0.   0.   0.   0.   0.   0.\n",
            "   0.   0.   0.   0.   0.   0.   0.   0.   0.   0.   0.   0.   0.  81.\n",
            " 240. 253. 253. 119.  25.   0.   0.   0.   0.   0.   0.   0.   0.   0.\n",
            "   0.   0.   0.   0.   0.   0.   0.   0.   0.   0.   0.   0.   0.   0.\n",
            "  45. 186. 253. 253. 150.  27.   0.   0.   0.   0.   0.   0.   0.   0.\n",
            "   0.   0.   0.   0.   0.   0.   0.   0.   0.   0.   0.   0.   0.   0.\n",
            "   0.  16.  93. 252. 253. 187.   0.   0.   0.   0.   0.   0.   0.   0.\n",
            "   0.   0.   0.   0.   0.   0.   0.   0.   0.   0.   0.   0.   0.   0.\n",
            "   0.   0.   0. 249. 253. 249.  64.   0.   0.   0.   0.   0.   0.   0.\n",
            "   0.   0.   0.   0.   0.   0.   0.   0.   0.   0.   0.   0.   0.   0.\n",
            "  46. 130. 183. 253. 253. 207.   2.   0.   0.   0.   0.   0.   0.   0.\n",
            "   0.   0.   0.   0.   0.   0.   0.   0.   0.   0.   0.   0.  39. 148.\n",
            " 229. 253. 253. 253. 250. 182.   0.   0.   0.   0.   0.   0.   0.   0.\n",
            "   0.   0.   0.   0.   0.   0.   0.   0.   0.   0.  24. 114. 221. 253.\n",
            " 253. 253. 253. 201.  78.   0.   0.   0.   0.   0.   0.   0.   0.   0.\n",
            "   0.   0.   0.   0.   0.   0.   0.   0.  23.  66. 213. 253. 253. 253.\n",
            " 253. 198.  81.   2.   0.   0.   0.   0.   0.   0.   0.   0.   0.   0.\n",
            "   0.   0.   0.   0.   0.   0.  18. 171. 219. 253. 253. 253. 253. 195.\n",
            "  80.   9.   0.   0.   0.   0.   0.   0.   0.   0.   0.   0.   0.   0.\n",
            "   0.   0.   0.   0.  55. 172. 226. 253. 253. 253. 253. 244. 133.  11.\n",
            "   0.   0.   0.   0.   0.   0.   0.   0.   0.   0.   0.   0.   0.   0.\n",
            "   0.   0.   0.   0. 136. 253. 253. 253. 212. 135. 132.  16.   0.   0.\n",
            "   0.   0.   0.   0.   0.   0.   0.   0.   0.   0.   0.   0.   0.   0.\n",
            "   0.   0.   0.   0.   0.   0.   0.   0.   0.   0.   0.   0.   0.   0.\n",
            "   0.   0.   0.   0.   0.   0.   0.   0.   0.   0.   0.   0.   0.   0.\n",
            "   0.   0.   0.   0.   0.   0.   0.   0.   0.   0.   0.   0.   0.   0.\n",
            "   0.   0.   0.   0.   0.   0.   0.   0.   0.   0.   0.   0.   0.   0.\n",
            "   0.   0.   0.   0.   0.   0.   0.   0.   0.   0.   0.   0.   0.   0.\n",
            "   0.   0.   0.   0.   0.   0.   0.   0.   0.   0.   0.   0.   0.   0.]\n",
            "[  0.   0.   0.   0.   0.   0.   0.   0.   0.   0.   0.   0.   0.   0.\n",
            "   0.   0.   0.   0.   0.   0.   0.   0.   0.   0.   0.   0.   0.   0.\n",
            "   0.   0.   0.   0.   0.   0.   0.   0.   0.   0.   0.   0.   0.   0.\n",
            "   0.   0.   0.   0.   0.   0.   0.   0.   0.   0.   0.   0.   0.   0.\n",
            "   0.   0.   0.   0.   0.   0.   0.   0.   0.   0.   0.   0.   0.   0.\n",
            "   0.   0.   0.   0.   0.   0.   0.   0.   0.   0.   0.   0.   0.   0.\n",
            "   0.   0.   0.   0.   0.   0.   0.   0.   0.   0.   0.   0.   0.   0.\n",
            "   0.   0.   0.   0.   0.   0.   0.   0.   0.   0.   0.   0.   0.   0.\n",
            "   0.   0.   0.   0.   0.   0.   0.   0.   0.   0.   0.   0.   0.   0.\n",
            "   0.   0.   0.   0.   0.   0.   0.   0.   0.   0.   0.   0.   0.   0.\n",
            "   0.   0.   0.   0.   0.   0.   0.   0.   0.   0.   0.   0.   0.   0.\n",
            "   0.   0.   0.   0.   0.   0.   0.   0.   0.   0.   0.   0.   0.   0.\n",
            "   0.   0.   0.   0.   0.   0.   0.   0.   0.   0.   0.   0.   0.   0.\n",
            "   0.   0.   0.   0.   0.   0.   0.   0.   0.   0.   0.   0.   0.   0.\n",
            "   0.   0.   0.   0.   0.   0.  84. 185. 159. 151.  60.  36.   0.   0.\n",
            "   0.   0.   0.   0.   0.   0.   0.   0.   0.   0.   0.   0.   0.   0.\n",
            "   0.   0.   0.   0.   0.   0. 222. 254. 254. 254. 254. 241. 198. 198.\n",
            " 198. 198. 198. 198. 198. 198. 170.  52.   0.   0.   0.   0.   0.   0.\n",
            "   0.   0.   0.   0.   0.   0.  67. 114.  72. 114. 163. 227. 254. 225.\n",
            " 254. 254. 254. 250. 229. 254. 254. 140.   0.   0.   0.   0.   0.   0.\n",
            "   0.   0.   0.   0.   0.   0.   0.   0.   0.   0.   0.  17.  66.  14.\n",
            "  67.  67.  67.  59.  21. 236. 254. 106.   0.   0.   0.   0.   0.   0.\n",
            "   0.   0.   0.   0.   0.   0.   0.   0.   0.   0.   0.   0.   0.   0.\n",
            "   0.   0.   0.   0.  83. 253. 209.  18.   0.   0.   0.   0.   0.   0.\n",
            "   0.   0.   0.   0.   0.   0.   0.   0.   0.   0.   0.   0.   0.   0.\n",
            "   0.   0.   0.  22. 233. 255.  83.   0.   0.   0.   0.   0.   0.   0.\n",
            "   0.   0.   0.   0.   0.   0.   0.   0.   0.   0.   0.   0.   0.   0.\n",
            "   0.   0.   0. 129. 254. 238.  44.   0.   0.   0.   0.   0.   0.   0.\n",
            "   0.   0.   0.   0.   0.   0.   0.   0.   0.   0.   0.   0.   0.   0.\n",
            "   0.   0.  59. 249. 254.  62.   0.   0.   0.   0.   0.   0.   0.   0.\n",
            "   0.   0.   0.   0.   0.   0.   0.   0.   0.   0.   0.   0.   0.   0.\n",
            "   0.   0. 133. 254. 187.   5.   0.   0.   0.   0.   0.   0.   0.   0.\n",
            "   0.   0.   0.   0.   0.   0.   0.   0.   0.   0.   0.   0.   0.   0.\n",
            "   0.   9. 205. 248.  58.   0.   0.   0.   0.   0.   0.   0.   0.   0.\n",
            "   0.   0.   0.   0.   0.   0.   0.   0.   0.   0.   0.   0.   0.   0.\n",
            "   0. 126. 254. 182.   0.   0.   0.   0.   0.   0.   0.   0.   0.   0.\n",
            "   0.   0.   0.   0.   0.   0.   0.   0.   0.   0.   0.   0.   0.   0.\n",
            "  75. 251. 240.  57.   0.   0.   0.   0.   0.   0.   0.   0.   0.   0.\n",
            "   0.   0.   0.   0.   0.   0.   0.   0.   0.   0.   0.   0.   0.  19.\n",
            " 221. 254. 166.   0.   0.   0.   0.   0.   0.   0.   0.   0.   0.   0.\n",
            "   0.   0.   0.   0.   0.   0.   0.   0.   0.   0.   0.   0.   3. 203.\n",
            " 254. 219.  35.   0.   0.   0.   0.   0.   0.   0.   0.   0.   0.   0.\n",
            "   0.   0.   0.   0.   0.   0.   0.   0.   0.   0.   0.   0.  38. 254.\n",
            " 254.  77.   0.   0.   0.   0.   0.   0.   0.   0.   0.   0.   0.   0.\n",
            "   0.   0.   0.   0.   0.   0.   0.   0.   0.   0.   0.  31. 224. 254.\n",
            " 115.   1.   0.   0.   0.   0.   0.   0.   0.   0.   0.   0.   0.   0.\n",
            "   0.   0.   0.   0.   0.   0.   0.   0.   0.   0.   0. 133. 254. 254.\n",
            "  52.   0.   0.   0.   0.   0.   0.   0.   0.   0.   0.   0.   0.   0.\n",
            "   0.   0.   0.   0.   0.   0.   0.   0.   0.   0.  61. 242. 254. 254.\n",
            "  52.   0.   0.   0.   0.   0.   0.   0.   0.   0.   0.   0.   0.   0.\n",
            "   0.   0.   0.   0.   0.   0.   0.   0.   0.   0. 121. 254. 254. 219.\n",
            "  40.   0.   0.   0.   0.   0.   0.   0.   0.   0.   0.   0.   0.   0.\n",
            "   0.   0.   0.   0.   0.   0.   0.   0.   0.   0. 121. 254. 207.  18.\n",
            "   0.   0.   0.   0.   0.   0.   0.   0.   0.   0.   0.   0.   0.   0.\n",
            "   0.   0.   0.   0.   0.   0.   0.   0.   0.   0.   0.   0.   0.   0.\n",
            "   0.   0.   0.   0.   0.   0.   0.   0.   0.   0.   0.   0.   0.   0.]\n"
          ]
        }
      ]
    },
    {
      "cell_type": "code",
      "source": [
        "import tensorflow as tf\n",
        "\n",
        "# y레이블 원핫 코드 변환\n",
        "print(y_train[0])\n",
        "print(y_test[0])\n",
        "y_train = tf.keras.utils.to_categorical(y_train, 10)\n",
        "y_test = tf.keras.utils.to_categorical(y_test, 10)\n",
        "print(\"\\nOne-Hot Encoding MNIST Data : \")\n",
        "print(y_train[0,:])\n",
        "print(y_test[0,:])"
      ],
      "metadata": {
        "colab": {
          "base_uri": "https://localhost:8080/"
        },
        "id": "ucHCapQr_bI4",
        "outputId": "18998f55-b7f8-4a91-adb0-1bcd5a29cd47"
      },
      "execution_count": 5,
      "outputs": [
        {
          "output_type": "stream",
          "name": "stdout",
          "text": [
            "5\n",
            "7\n",
            "\n",
            "One-Hot Encoding MNIST Data : \n",
            "[0. 0. 0. 0. 0. 1. 0. 0. 0. 0.]\n",
            "[0. 0. 0. 0. 0. 0. 0. 1. 0. 0.]\n"
          ]
        }
      ]
    },
    {
      "cell_type": "markdown",
      "source": [
        "신경망 설계"
      ],
      "metadata": {
        "id": "magUzhDL_5Vv"
      }
    },
    {
      "cell_type": "code",
      "source": [
        "n_input = X_train.shape[1]\n",
        "n_hidden = [128]\n",
        "\n",
        "n_output = 10"
      ],
      "metadata": {
        "id": "6k6XrJ3z_63X"
      },
      "execution_count": 6,
      "outputs": []
    },
    {
      "cell_type": "code",
      "source": [
        "from keras.models import Sequential\n",
        "from keras.layers import Dense\n",
        "from keras.optimizers import Adam\n",
        "\n",
        "# 신경망 모델 생성\n",
        "mlp_model = Sequential()\n",
        "mlp_model.add(Dense(units = n_hidden[0], # 128\n",
        "                    activation = 'tanh', # 활성화함수\n",
        "                    input_shape = (n_input,),\n",
        "                    kernel_initializer='random_uniform', # 초기 가중치 값\n",
        "                    bias_initializer='zeros'))\n",
        "\n",
        "mlp_model.add(Dense(units = n_output,\n",
        "                    activation = 'tanh',\n",
        "                    kernel_initializer = 'random_uniform',\n",
        "                    bias_initializer='zeros'))\n",
        "\n",
        "mlp_model.compile(loss = 'mean_squared_error', #평균제곱오차 (categorical_crossentropy, mean_absolute_error)\n",
        "                  optimizer = Adam(learning_rate = 4e-3), # Adam : learning rate를 조정해줌\n",
        "                  metrics = ['accuracy'])\n",
        "\n",
        "mlp_model.summary()"
      ],
      "metadata": {
        "colab": {
          "base_uri": "https://localhost:8080/"
        },
        "id": "AfBrjDfsAZ6Y",
        "outputId": "7c7457fd-ed4a-413f-e7b2-69f17b97b4c5"
      },
      "execution_count": 7,
      "outputs": [
        {
          "output_type": "stream",
          "name": "stdout",
          "text": [
            "Model: \"sequential\"\n",
            "_________________________________________________________________\n",
            " Layer (type)                Output Shape              Param #   \n",
            "=================================================================\n",
            " dense (Dense)               (None, 128)               100480    \n",
            "                                                                 \n",
            " dense_1 (Dense)             (None, 10)                1290      \n",
            "                                                                 \n",
            "=================================================================\n",
            "Total params: 101770 (397.54 KB)\n",
            "Trainable params: 101770 (397.54 KB)\n",
            "Non-trainable params: 0 (0.00 Byte)\n",
            "_________________________________________________________________\n"
          ]
        }
      ]
    },
    {
      "cell_type": "markdown",
      "source": [
        "학습"
      ],
      "metadata": {
        "id": "n_jOPQOUEiAw"
      }
    },
    {
      "cell_type": "code",
      "source": [
        "# 신경망 및 히스토리 설계\n",
        "hist = mlp_model.fit(X_train, y_train,\n",
        "                     validation_data = (X_test, y_test),\n",
        "                     epochs = 30,\n",
        "                     batch_size = 32,\n",
        "                     verbose = 1)\n",
        "\n",
        "res = mlp_model.evaluate(X_test, y_test, verbose = 0)\n",
        "print(\"[Err, Acc] = \",res)"
      ],
      "metadata": {
        "colab": {
          "base_uri": "https://localhost:8080/"
        },
        "id": "Zm3hKmCcDvsA",
        "outputId": "2ee81508-a635-4797-eca0-d26f736ba7c8"
      },
      "execution_count": 8,
      "outputs": [
        {
          "output_type": "stream",
          "name": "stdout",
          "text": [
            "Epoch 1/30\n",
            "1875/1875 [==============================] - 14s 5ms/step - loss: 0.0644 - accuracy: 0.5702 - val_loss: 0.0567 - val_accuracy: 0.6523\n",
            "Epoch 2/30\n",
            "1875/1875 [==============================] - 6s 3ms/step - loss: 0.0559 - accuracy: 0.6469 - val_loss: 0.0490 - val_accuracy: 0.7011\n",
            "Epoch 3/30\n",
            "1875/1875 [==============================] - 7s 4ms/step - loss: 0.0500 - accuracy: 0.6765 - val_loss: 0.0456 - val_accuracy: 0.7065\n",
            "Epoch 4/30\n",
            "1875/1875 [==============================] - 7s 4ms/step - loss: 0.0472 - accuracy: 0.7199 - val_loss: 0.0441 - val_accuracy: 0.7355\n",
            "Epoch 5/30\n",
            "1875/1875 [==============================] - 5s 3ms/step - loss: 0.0452 - accuracy: 0.7308 - val_loss: 0.0417 - val_accuracy: 0.7681\n",
            "Epoch 6/30\n",
            "1875/1875 [==============================] - 6s 3ms/step - loss: 0.0460 - accuracy: 0.7328 - val_loss: 0.0401 - val_accuracy: 0.7677\n",
            "Epoch 7/30\n",
            "1875/1875 [==============================] - 7s 3ms/step - loss: 0.0457 - accuracy: 0.7119 - val_loss: 0.0424 - val_accuracy: 0.7485\n",
            "Epoch 8/30\n",
            "1875/1875 [==============================] - 7s 4ms/step - loss: 0.0440 - accuracy: 0.7350 - val_loss: 0.0458 - val_accuracy: 0.7353\n",
            "Epoch 9/30\n",
            "1875/1875 [==============================] - 5s 3ms/step - loss: 0.0451 - accuracy: 0.7078 - val_loss: 0.0496 - val_accuracy: 0.6769\n",
            "Epoch 10/30\n",
            "1875/1875 [==============================] - 5s 3ms/step - loss: 0.0428 - accuracy: 0.7565 - val_loss: 0.0394 - val_accuracy: 0.7827\n",
            "Epoch 11/30\n",
            "1875/1875 [==============================] - 7s 4ms/step - loss: 0.0394 - accuracy: 0.7860 - val_loss: 0.0341 - val_accuracy: 0.8122\n",
            "Epoch 12/30\n",
            "1875/1875 [==============================] - 5s 3ms/step - loss: 0.0382 - accuracy: 0.7995 - val_loss: 0.0366 - val_accuracy: 0.7987\n",
            "Epoch 13/30\n",
            "1875/1875 [==============================] - 6s 3ms/step - loss: 0.0376 - accuracy: 0.8022 - val_loss: 0.0401 - val_accuracy: 0.7859\n",
            "Epoch 14/30\n",
            "1875/1875 [==============================] - 5s 3ms/step - loss: 0.0373 - accuracy: 0.8007 - val_loss: 0.0386 - val_accuracy: 0.7868\n",
            "Epoch 15/30\n",
            "1875/1875 [==============================] - 6s 3ms/step - loss: 0.0384 - accuracy: 0.8036 - val_loss: 0.0362 - val_accuracy: 0.8130\n",
            "Epoch 16/30\n",
            "1875/1875 [==============================] - 5s 3ms/step - loss: 0.0368 - accuracy: 0.8132 - val_loss: 0.0368 - val_accuracy: 0.8076\n",
            "Epoch 17/30\n",
            "1875/1875 [==============================] - 6s 3ms/step - loss: 0.0372 - accuracy: 0.8008 - val_loss: 0.0348 - val_accuracy: 0.8069\n",
            "Epoch 18/30\n",
            "1875/1875 [==============================] - 5s 3ms/step - loss: 0.0346 - accuracy: 0.8243 - val_loss: 0.0367 - val_accuracy: 0.8416\n",
            "Epoch 19/30\n",
            "1875/1875 [==============================] - 6s 3ms/step - loss: 0.0351 - accuracy: 0.8159 - val_loss: 0.0336 - val_accuracy: 0.8275\n",
            "Epoch 20/30\n",
            "1875/1875 [==============================] - 5s 3ms/step - loss: 0.0339 - accuracy: 0.8258 - val_loss: 0.0314 - val_accuracy: 0.8124\n",
            "Epoch 21/30\n",
            "1875/1875 [==============================] - 6s 3ms/step - loss: 0.0340 - accuracy: 0.8242 - val_loss: 0.0322 - val_accuracy: 0.8288\n",
            "Epoch 22/30\n",
            "1875/1875 [==============================] - 6s 3ms/step - loss: 0.0332 - accuracy: 0.8208 - val_loss: 0.0349 - val_accuracy: 0.8103\n",
            "Epoch 23/30\n",
            "1875/1875 [==============================] - 8s 4ms/step - loss: 0.0348 - accuracy: 0.8220 - val_loss: 0.0322 - val_accuracy: 0.8327\n",
            "Epoch 24/30\n",
            "1875/1875 [==============================] - 6s 3ms/step - loss: 0.0327 - accuracy: 0.8345 - val_loss: 0.0347 - val_accuracy: 0.8352\n",
            "Epoch 25/30\n",
            "1875/1875 [==============================] - 5s 3ms/step - loss: 0.0315 - accuracy: 0.8396 - val_loss: 0.0291 - val_accuracy: 0.8555\n",
            "Epoch 26/30\n",
            "1875/1875 [==============================] - 6s 3ms/step - loss: 0.0305 - accuracy: 0.8540 - val_loss: 0.0302 - val_accuracy: 0.8523\n",
            "Epoch 27/30\n",
            "1875/1875 [==============================] - 5s 3ms/step - loss: 0.0315 - accuracy: 0.8474 - val_loss: 0.0307 - val_accuracy: 0.8445\n",
            "Epoch 28/30\n",
            "1875/1875 [==============================] - 6s 3ms/step - loss: 0.0326 - accuracy: 0.8347 - val_loss: 0.0337 - val_accuracy: 0.8369\n",
            "Epoch 29/30\n",
            "1875/1875 [==============================] - 5s 3ms/step - loss: 0.0315 - accuracy: 0.8422 - val_loss: 0.0313 - val_accuracy: 0.8517\n",
            "Epoch 30/30\n",
            "1875/1875 [==============================] - 5s 3ms/step - loss: 0.0301 - accuracy: 0.8411 - val_loss: 0.0293 - val_accuracy: 0.8295\n",
            "[Err, Acc] =  [0.029342688620090485, 0.8295000195503235]\n"
          ]
        }
      ]
    },
    {
      "cell_type": "code",
      "source": [
        "%reset -f\n",
        "\n",
        "\n",
        "import numpy as np\n",
        "import tensorflow as tf\n",
        "from keras.datasets import fashion_mnist\n",
        "\n",
        "\n",
        "from keras.models import Sequential\n",
        "from keras.layers import Dense\n",
        "from keras.optimizers import Adam\n",
        "\n",
        "\n",
        "import matplotlib.pyplot as plt\n",
        "\n",
        "\n",
        "# fashion MNIST 데이터 가져와서 가공하기\n",
        "(X_train, y_train), (X_test, y_test) = fashion_mnist.load_data()\n",
        "    # 아래의 모든 코드는 복사 붙여넣기 하고 신경망 설정만 수정\n",
        "\n",
        "\n",
        "X_train = X_train.reshape(60000, 784)\n",
        "X_test = X_test.reshape(10000, 784)\n",
        "X_train = X_train.astype('float32') / 255.0\n",
        "X_test = X_test.astype('float32') / 255.0\n",
        "\n",
        "\n",
        "y_train = tf.keras.utils.to_categorical(y_train, 10)\n",
        "y_test = tf.keras.utils.to_categorical(y_test, 10)\n",
        "\n",
        "\n",
        "# 신경망 설계\n",
        "n_input = X_train.shape[1]    # 784 (= 28 x 28)개\n",
        "n_hidden = [1024, 512, 512, 512, 256, 256, 128,128]              # 은닉층의 뉴런 수\n",
        "n_output = 10\n",
        "\n",
        "\n",
        "mlp_model = Sequential()      # 신경망 모델 생성\n",
        "\n",
        "\n",
        "mlp_model.add(Dense(input_shape=(n_input,),\n",
        "                    units=n_hidden[0], activation='relu',\n",
        "                    kernel_initializer='random_uniform', bias_initializer='zeros'))\n",
        "\n",
        "mlp_model.add(Dense(units=n_hidden[1], activation='relu',\n",
        "                    kernel_initializer='random_uniform', bias_initializer='zeros'))\n",
        "\n",
        "mlp_model.add(Dense(units=n_hidden[2], activation='relu',\n",
        "                    kernel_initializer='random_uniform', bias_initializer='zeros'))\n",
        "\n",
        "mlp_model.add(Dense(units=n_hidden[3], activation='relu',\n",
        "                    kernel_initializer='random_uniform', bias_initializer='zeros'))\n",
        "\n",
        "mlp_model.add(Dense(units=n_hidden[4], activation='relu',\n",
        "                    kernel_initializer='random_uniform', bias_initializer='zeros'))\n",
        "\n",
        "mlp_model.add(Dense(units=n_hidden[5], activation='relu',\n",
        "                    kernel_initializer='random_uniform', bias_initializer='zeros'))\n",
        "\n",
        "mlp_model.add(Dense(units=n_hidden[6], activation='relu',\n",
        "                    kernel_initializer='random_uniform', bias_initializer='zeros'))\n",
        "\n",
        "mlp_model.add(Dense(units=n_hidden[7], activation='relu',\n",
        "                    kernel_initializer='random_uniform', bias_initializer='zeros'))\n",
        "\n",
        "mlp_model.add(Dense(units=n_output, activation='sigmoid',  # crossentropy를 쓸 거면 최종 함수는 sigmoid 사용을 추천\n",
        "                    kernel_initializer='random_uniform', bias_initializer='zeros'))\n",
        "\n",
        "\n",
        "mlp_model.compile(loss='categorical_crossentropy',\n",
        "                  optimizer=Adam(learning_rate=0.001),\n",
        "                  metrics=['accuracy'])\n",
        "mlp_model.summary()\n",
        "\n",
        "\n",
        "# 신경망 학습 및 히스토리 보존\n",
        "hist = mlp_model.fit(X_train, y_train,\n",
        "                     validation_data=(X_test, y_test),\n",
        "                     epochs=30,\n",
        "                     batch_size=128,\n",
        "                     callbacks=[\n",
        "                        tf.keras.callbacks.EarlyStopping(monitor='val_loss',\n",
        "                                                         patience=10,\n",
        "                                                         restore_best_weights=True)\n",
        "                     ],\n",
        "                     verbose=1)  #verb = 1\n",
        "\n",
        "\n",
        "res = mlp_model.evaluate(X_test, y_test, verbose=0)\n",
        "print(\"[Err, Acc] = : \", res)\n",
        "\n",
        "\n",
        "# Accuracy Traning Curve\n",
        "plt.plot(hist.history['accuracy'])\n",
        "plt.plot(hist.history['val_accuracy'])\n",
        "plt.title('Model Accuracy')\n",
        "plt.ylabel('Accuracy')\n",
        "plt.xlabel('Epoch')\n",
        "plt.legend(['Train', 'Test'], loc='best')\n",
        "plt.grid()\n",
        "plt.show()\n",
        "\n",
        "\n",
        "# Loss Curve\n",
        "plt.plot(hist.history['loss'])\n",
        "plt.plot(hist.history['val_loss'])\n",
        "plt.title('Model Loss')\n",
        "plt.ylabel('Loss')\n",
        "plt.xlabel( 'Epoch')\n",
        "plt.legend(['Train', 'Test'], loc='best')\n",
        "plt.grid()\n",
        "plt.show()\n",
        "\n",
        "\n",
        "## 트레이닝 커브를 보고 앞에 비해 어떠한 상황이 되는지 생각해보자\n"
      ],
      "metadata": {
        "colab": {
          "base_uri": "https://localhost:8080/",
          "height": 1000
        },
        "id": "rrdCeWlnITWg",
        "outputId": "74ca98f4-b0f4-4802-cdcf-7de9f2a16a6c"
      },
      "execution_count": 14,
      "outputs": [
        {
          "output_type": "stream",
          "name": "stdout",
          "text": [
            "Model: \"sequential_6\"\n",
            "_________________________________________________________________\n",
            " Layer (type)                Output Shape              Param #   \n",
            "=================================================================\n",
            " dense_43 (Dense)            (None, 1024)              803840    \n",
            "                                                                 \n",
            " dense_44 (Dense)            (None, 512)               524800    \n",
            "                                                                 \n",
            " dense_45 (Dense)            (None, 512)               262656    \n",
            "                                                                 \n",
            " dense_46 (Dense)            (None, 512)               262656    \n",
            "                                                                 \n",
            " dense_47 (Dense)            (None, 256)               131328    \n",
            "                                                                 \n",
            " dense_48 (Dense)            (None, 256)               65792     \n",
            "                                                                 \n",
            " dense_49 (Dense)            (None, 128)               32896     \n",
            "                                                                 \n",
            " dense_50 (Dense)            (None, 128)               16512     \n",
            "                                                                 \n",
            " dense_51 (Dense)            (None, 10)                1290      \n",
            "                                                                 \n",
            "=================================================================\n",
            "Total params: 2101770 (8.02 MB)\n",
            "Trainable params: 2101770 (8.02 MB)\n",
            "Non-trainable params: 0 (0.00 Byte)\n",
            "_________________________________________________________________\n",
            "Epoch 1/30\n",
            "469/469 [==============================] - 5s 6ms/step - loss: 0.8401 - accuracy: 0.6490 - val_loss: 0.5733 - val_accuracy: 0.7816\n",
            "Epoch 2/30\n",
            "469/469 [==============================] - 2s 5ms/step - loss: 0.5024 - accuracy: 0.8078 - val_loss: 0.5145 - val_accuracy: 0.8083\n",
            "Epoch 3/30\n",
            "469/469 [==============================] - 2s 5ms/step - loss: 0.4422 - accuracy: 0.8364 - val_loss: 0.4604 - val_accuracy: 0.8370\n",
            "Epoch 4/30\n",
            "469/469 [==============================] - 3s 6ms/step - loss: 0.3945 - accuracy: 0.8605 - val_loss: 0.4323 - val_accuracy: 0.8557\n",
            "Epoch 5/30\n",
            "469/469 [==============================] - 3s 6ms/step - loss: 0.3572 - accuracy: 0.8741 - val_loss: 0.3957 - val_accuracy: 0.8653\n",
            "Epoch 6/30\n",
            "469/469 [==============================] - 3s 5ms/step - loss: 0.3210 - accuracy: 0.8841 - val_loss: 0.3676 - val_accuracy: 0.8711\n",
            "Epoch 7/30\n",
            "469/469 [==============================] - 2s 5ms/step - loss: 0.3067 - accuracy: 0.8892 - val_loss: 0.3484 - val_accuracy: 0.8746\n",
            "Epoch 8/30\n",
            "469/469 [==============================] - 4s 8ms/step - loss: 0.2927 - accuracy: 0.8941 - val_loss: 0.3469 - val_accuracy: 0.8745\n",
            "Epoch 9/30\n",
            "469/469 [==============================] - 5s 10ms/step - loss: 0.2795 - accuracy: 0.8992 - val_loss: 0.3518 - val_accuracy: 0.8815\n",
            "Epoch 10/30\n",
            "469/469 [==============================] - 3s 7ms/step - loss: 0.2699 - accuracy: 0.9012 - val_loss: 0.3447 - val_accuracy: 0.8785\n",
            "Epoch 11/30\n",
            "469/469 [==============================] - 4s 8ms/step - loss: 0.2573 - accuracy: 0.9071 - val_loss: 0.3683 - val_accuracy: 0.8821\n",
            "Epoch 12/30\n",
            "469/469 [==============================] - 5s 11ms/step - loss: 0.2498 - accuracy: 0.9085 - val_loss: 0.3387 - val_accuracy: 0.8846\n",
            "Epoch 13/30\n",
            "469/469 [==============================] - 3s 7ms/step - loss: 0.2481 - accuracy: 0.9105 - val_loss: 0.3595 - val_accuracy: 0.8830\n",
            "Epoch 14/30\n",
            "469/469 [==============================] - 2s 5ms/step - loss: 0.2432 - accuracy: 0.9120 - val_loss: 0.3452 - val_accuracy: 0.8855\n",
            "Epoch 15/30\n",
            "469/469 [==============================] - 2s 5ms/step - loss: 0.2316 - accuracy: 0.9149 - val_loss: 0.3397 - val_accuracy: 0.8878\n",
            "Epoch 16/30\n",
            "469/469 [==============================] - 2s 5ms/step - loss: 0.2214 - accuracy: 0.9179 - val_loss: 0.3708 - val_accuracy: 0.8813\n",
            "Epoch 17/30\n",
            "469/469 [==============================] - 3s 7ms/step - loss: 0.2150 - accuracy: 0.9207 - val_loss: 0.3418 - val_accuracy: 0.8854\n",
            "Epoch 18/30\n",
            "469/469 [==============================] - 2s 5ms/step - loss: 0.2063 - accuracy: 0.9231 - val_loss: 0.3453 - val_accuracy: 0.8824\n",
            "Epoch 19/30\n",
            "469/469 [==============================] - 3s 5ms/step - loss: 0.1982 - accuracy: 0.9262 - val_loss: 0.3521 - val_accuracy: 0.8877\n",
            "Epoch 20/30\n",
            "469/469 [==============================] - 2s 5ms/step - loss: 0.1918 - accuracy: 0.9278 - val_loss: 0.3655 - val_accuracy: 0.8922\n",
            "Epoch 21/30\n",
            "469/469 [==============================] - 3s 5ms/step - loss: 0.1855 - accuracy: 0.9305 - val_loss: 0.3580 - val_accuracy: 0.8920\n",
            "Epoch 22/30\n",
            "469/469 [==============================] - 3s 7ms/step - loss: 0.1806 - accuracy: 0.9327 - val_loss: 0.3796 - val_accuracy: 0.8936\n",
            "[Err, Acc] = :  [0.3386562466621399, 0.8845999836921692]\n"
          ]
        },
        {
          "output_type": "display_data",
          "data": {
            "text/plain": [
              "<Figure size 640x480 with 1 Axes>"
            ],
            "image/png": "[encoded data removed]"
          },
          "metadata": {}
        },
        {
          "output_type": "display_data",
          "data": {
            "text/plain": [
              "<Figure size 640x480 with 1 Axes>"
            ],
            "image/png": "[encoded data removed]"
          },
          "metadata": {}
        }
      ]
    }
  ]
}