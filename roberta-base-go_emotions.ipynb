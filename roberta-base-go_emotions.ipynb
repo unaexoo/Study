{
 "cells": [
  {
   "cell_type": "code",
   "execution_count": 1,
   "metadata": {},
   "outputs": [
    {
     "name": "stderr",
     "output_type": "stream",
     "text": [
      "c:\\brain_tumor\\venv\\Lib\\site-packages\\tqdm\\auto.py:21: TqdmWarning: IProgress not found. Please update jupyter and ipywidgets. See https://ipywidgets.readthedocs.io/en/stable/user_install.html\n",
      "  from .autonotebook import tqdm as notebook_tqdm\n"
     ]
    }
   ],
   "source": [
    "import pandas as pd\n",
    "from transformers import AutoTokenizer, pipeline\n",
    "from datasets import load_dataset\n",
    "from tqdm import tqdm"
   ]
  },
  {
   "cell_type": "code",
   "execution_count": 2,
   "metadata": {},
   "outputs": [
    {
     "name": "stderr",
     "output_type": "stream",
     "text": [
      "Device set to use cuda:0\n"
     ]
    }
   ],
   "source": [
    "data = load_dataset(\"jahjinx/IMDb_movie_reviews\")\n",
    "model_name = \"SamLowe/roberta-base-go_emotions\"\n",
    "classifier = pipeline(task=\"text-classification\", model=model_name, top_k=None)\n",
    "tokenizer = AutoTokenizer.from_pretrained(model_name)"
   ]
  },
  {
   "cell_type": "code",
   "execution_count": 3,
   "metadata": {},
   "outputs": [],
   "source": [
    "train_data = data['train']['text']\n",
    "test_data = data['test']['text']"
   ]
  },
  {
   "cell_type": "code",
   "execution_count": 4,
   "metadata": {},
   "outputs": [],
   "source": [
    "def preprocess_text(text, max_length=512):\n",
    "    tokens = tokenizer(text, truncation=True, max_length=max_length, return_tensors=\"pt\")\n",
    "    truncated_text = tokenizer.decode(tokens[\"input_ids\"][0], skip_special_tokens=True)\n",
    "    return truncated_text"
   ]
  },
  {
   "cell_type": "code",
   "execution_count": 5,
   "metadata": {},
   "outputs": [],
   "source": [
    "def process_review(text):\n",
    "    preprocessed_text = preprocess_text(text)\n",
    "    outputs = classifier(preprocessed_text)\n",
    "    return outputs"
   ]
  },
  {
   "cell_type": "code",
   "execution_count": 6,
   "metadata": {},
   "outputs": [
    {
     "name": "stderr",
     "output_type": "stream",
     "text": [
      "Processing reviews:   0%|          | 7/36000 [00:01<1:43:00,  5.82it/s] You seem to be using the pipelines sequentially on GPU. In order to maximize efficiency please use a dataset\n",
      "Processing reviews: 100%|██████████| 36000/36000 [08:23<00:00, 71.52it/s]"
     ]
    },
    {
     "name": "stdout",
     "output_type": "stream",
     "text": [
      "                                              review  \\\n",
      "0  Beautifully photographed and ably acted, gener...   \n",
      "1  Well, where to start describing this celluloid...   \n",
      "2  I first caught the movie on its first run on H...   \n",
      "3  I love Umberto Lenzi's cop movies -- ROME ARME...   \n",
      "4  I generally won't review movies I haven't seen...   \n",
      "\n",
      "                                            emotions  \n",
      "0  [[{'label': 'admiration', 'score': 0.458035469...  \n",
      "1  [[{'label': 'curiosity', 'score': 0.6023563146...  \n",
      "2  [[{'label': 'surprise', 'score': 0.68916881084...  \n",
      "3  [[{'label': 'disappointment', 'score': 0.27864...  \n",
      "4  [[{'label': 'amusement', 'score': 0.4213815927...  \n"
     ]
    },
    {
     "name": "stderr",
     "output_type": "stream",
     "text": [
      "\n"
     ]
    }
   ],
   "source": [
    "train_res_data = []\n",
    "\n",
    "for review in tqdm(train_data, desc=\"Processing reviews\"):\n",
    "    train_res_data.append(process_review(review))\n",
    "\n",
    "processed_df = pd.DataFrame({\n",
    "    \"review\": train_data,\n",
    "    \"emotions\": train_res_data\n",
    "})\n",
    "\n",
    "print(processed_df.head())\n"
   ]
  },
  {
   "cell_type": "code",
   "execution_count": 7,
   "metadata": {},
   "outputs": [
    {
     "name": "stderr",
     "output_type": "stream",
     "text": [
      "Processing test reviews: 100%|██████████| 10000/10000 [02:20<00:00, 71.09it/s]"
     ]
    },
    {
     "name": "stdout",
     "output_type": "stream",
     "text": [
      "                                              review  \\\n",
      "0  With No Dead Heroes you get stupid lines like ...   \n",
      "1  I thought maybe... maybe this could be good. A...   \n",
      "2  An elite American military team which of cours...   \n",
      "3  Ridiculous horror film about a wealthy man (Jo...   \n",
      "4  Well, if you are one of those Katana's film-nu...   \n",
      "\n",
      "                                            emotions  \n",
      "0  [[{'label': 'neutral', 'score': 0.400691390037...  \n",
      "1  [[{'label': 'disapproval', 'score': 0.59797060...  \n",
      "2  [[{'label': 'disapproval', 'score': 0.51812630...  \n",
      "3  [[{'label': 'disappointment', 'score': 0.28626...  \n",
      "4  [[{'label': 'admiration', 'score': 0.634632229...  \n"
     ]
    },
    {
     "name": "stderr",
     "output_type": "stream",
     "text": [
      "\n"
     ]
    }
   ],
   "source": [
    "test_res_data= []\n",
    "\n",
    "for review in tqdm(test_data, desc=\"Processing test reviews\"):\n",
    "    test_res_data.append(process_review(review))\n",
    "\n",
    "processed_test_df = pd.DataFrame({\n",
    "    \"review\": test_data,\n",
    "    \"emotions\": test_res_data\n",
    "})\n",
    "\n",
    "\n",
    "print(processed_test_df.head())\n"
   ]
  }
 ],
 "metadata": {
  "kernelspec": {
   "display_name": "venv",
   "language": "python",
   "name": "python3"
  },
  "language_info": {
   "codemirror_mode": {
    "name": "ipython",
    "version": 3
   },
   "file_extension": ".py",
   "mimetype": "text/x-python",
   "name": "python",
   "nbconvert_exporter": "python",
   "pygments_lexer": "ipython3",
   "version": "3.11.0"
  }
 },
 "nbformat": 4,
 "nbformat_minor": 2
}
