{
 "cells": [
  {
   "cell_type": "code",
   "execution_count": 8,
   "metadata": {},
   "outputs": [],
   "source": [
    "from langchain_groq import ChatGroq\n",
    "from langchain_core.prompts import ChatPromptTemplate\n",
    "\n",
    "# ChatGroq 모델 초기화\n",
    "llm = ChatGroq(\n",
    "    model=\"gemma2-9b-it\",\n",
    "    temperature=0.7,\n",
    "    max_tokens=300,\n",
    "    api_key=\"\"\n",
    ")\n"
   ]
  },
  {
   "cell_type": "code",
   "execution_count": 9,
   "metadata": {},
   "outputs": [],
   "source": [
    "# 프롬프트 템플릿 정의\n",
    "prompt = ChatPromptTemplate.from_messages([\n",
    "    (\"system\", \"당신은 친절하고 유익한 AI 조수입니다. 한국의 역사와 문화에 대해 잘 알고 있습니다.\"),\n",
    "    (\"human\", \"{question}\")\n",
    "])\n"
   ]
  },
  {
   "cell_type": "code",
   "execution_count": 10,
   "metadata": {},
   "outputs": [],
   "source": [
    "# Chain 생성\n",
    "chain = prompt | llm"
   ]
  },
  {
   "cell_type": "code",
   "execution_count": 14,
   "metadata": {},
   "outputs": [
    {
     "name": "stdout",
     "output_type": "stream",
     "text": [
      "질문: 한글의 창제 원리는 무엇인가요?\n",
      "답변: content=\"네, 친절하고 유익한 AI 조수로서 한국의 역사와 문화에 대해 알려드릴 수 있습니다. \\n\\n한글의 창제 원리는 다음과 같습니다.\\n\\n**1. 천자성:** \\n세계 모든 소리에 대응하는 글자를 만들고자 했습니다. 훈민정음 창제 원리는 '천자성'이라는 개념에서 비롯됩니다. 즉, 모든 사람이 쉽게 배우고 사용할 수 있는 글자를 만드는 것이 목표였습니다.\\n\\n**2. 소리 기반:** \\n한글은 발음을 기반으로 한 문자 체계로, 자음과 모음을 결합하여 다양한 소리를 표현합니다. \\n\\n**3. 자연의 모습:** \\n자음은 자연의 모습을 본뜬 형태를 가지며, 모음은 인체의 발음 기관을 본떠 만들었습니다. 예를 들어, 'ㄱ'자는 혀를 펴서 발음하는 모습을, 'ㅏ'자는 입술을 모으는 모습을 나타냅니다.\\n\\n**4. 체계적 구성:** \\n한글은 자음과 모음을 기본으로 하여, 이들을 조합하여 더욱 복잡한 소리를 표현할 수 있도록 체계적으로 구성되었습니다\" additional_kwargs={} response_metadata={'token_usage': {'completion_tokens': 300, 'prompt_tokens': 49, 'total_tokens': 349, 'completion_time': 0.545454545, 'prompt_time': 0.000535358, 'queue_time': 0.019263579, 'total_time': 0.545989903}, 'model_name': 'gemma2-9b-it', 'system_fingerprint': 'fp_10c08bf97d', 'finish_reason': 'length', 'logprobs': None} id='run-5592cfcb-9401-41cc-87a6-77df1b96cf91-0' usage_metadata={'input_tokens': 49, 'output_tokens': 300, 'total_tokens': 349}\n",
      "\n",
      "질문: 김치의 역사와 문화적 중요성에 대해 설명해주세요.\n",
      "답변: content='## 김치: 한국의 역사와 문화를 담은 맛\\n\\n김치는 단순한 음식을 넘어 한국의 역사와 문화를 상징하는 존재입니다. 맛있고 건강한 김치는 한국인의 삶에서 빼놓을 수 없는 필수적인 요소이며, 오랜 시간 동안 전해져 내려온 한국인의 지혜와 정신을 담고 있습니다.\\n\\n** fermenting heritage: 김치의 역사**\\n\\n* **고대부터 시작된 김치의 역사:** 김치의 기원은 고대까지 거슬러 올라갑니다. 기원전 3세기에 이미 발효된 음식을 만들어 먹던 것으로 알려져 있으며, 삼국시대에는 이미 널리 즐겨 먹던 음식이었습니다. \\n* **네이버 혹은 구글에 \"김치 역사\"를 검색하면 더 자세한 정보를 얻을 수 있습니다.**\\n* **변화하는 김치 문화:**  시대 변화에 따라 다양한 종류의 김치가 개발되었으며, 지역마다 고유한 김치 문화가 형성되었습니다. 과거에는 겨울철 식량 부족을 해결하기 위해 만들어졌던 김치가, 오늘날에는 곁들여 먹는 찬 음식으로 자리 잡' additional_kwargs={} response_metadata={'token_usage': {'completion_tokens': 300, 'prompt_tokens': 53, 'total_tokens': 353, 'completion_time': 0.545454545, 'prompt_time': 0.001829234, 'queue_time': 0.021464662000000002, 'total_time': 0.547283779}, 'model_name': 'gemma2-9b-it', 'system_fingerprint': 'fp_10c08bf97d', 'finish_reason': 'length', 'logprobs': None} id='run-b617862d-80fd-44ee-a4de-f6f31cbdab52-0' usage_metadata={'input_tokens': 53, 'output_tokens': 300, 'total_tokens': 353}\n",
      "\n",
      "질문: 조선시대의 과거 제도에 대해 간단히 설명해주세요.\n",
      "답변: content='조선시대 과거는 과거 시험을 통해 관료를 선발하는 제도였습니다. \\n\\n**간단하게 설명하면:**\\n\\n* **목적:** 능력 있는 인재를 발굴하여 국가를 다스리는 관리자를 양성하는 것이 목적이었습니다. \\n* **시험 내용:** 사고력과 학문 지식을 측정하는 시험으로, 4개의 과거(**정광, 식, 병, 무** ) 중 하나에 응시할 수 있었습니다. 각 과거는 특정 분야에 대한 전문 지식을 요구했습니다.\\n* **시험 접근성:**  사회 계층을 막아 사회적 불평등을 해소하고, 천재도움을 통해 개인의 능력을 기반으로 관직에 올라갈 기회를 제공하는 시스템이었습니다.\\n\\n**주요 특징:**\\n\\n* **\"유교\"를 기반으로:**  유교 경전과 사상을 깊이 이해하는 것이 중요했습니다. \\n* **\"시험\"이 중심:**  장기간의 학업과 긴 벼슬길을 통해 시험에 대한 준비를 하며, 과거 시험의 성적이 모든 것을 결정했습니다.\\n* **높은 인지 능력 요구:**' additional_kwargs={} response_metadata={'token_usage': {'completion_tokens': 300, 'prompt_tokens': 55, 'total_tokens': 355, 'completion_time': 0.545454545, 'prompt_time': 0.001722715, 'queue_time': 0.021161731, 'total_time': 0.54717726}, 'model_name': 'gemma2-9b-it', 'system_fingerprint': 'fp_10c08bf97d', 'finish_reason': 'length', 'logprobs': None} id='run-db6e7cc8-3a6a-4bea-ab8e-2f6e74de109e-0' usage_metadata={'input_tokens': 55, 'output_tokens': 300, 'total_tokens': 355}\n",
      "\n"
     ]
    }
   ],
   "source": [
    "# 질문 리스트\n",
    "questions = [\n",
    "    \"한글의 창제 원리는 무엇인가요?\",\n",
    "    \"김치의 역사와 문화적 중요성에 대해 설명해주세요.\",\n",
    "    \"조선시대의 과거 제도에 대해 간단히 설명해주세요.\"\n",
    "]\n",
    "\n",
    "# 각 질문에 대한 답변 생성\n",
    "for question in questions:\n",
    "    response = chain.invoke({\"question\": question})\n",
    "    print(f\"질문: {question}\")\n",
    "    print(f\"답변: {response}\\n\")\n"
   ]
  }
 ],
 "metadata": {
  "kernelspec": {
   "display_name": "venv",
   "language": "python",
   "name": "python3"
  },
  "language_info": {
   "codemirror_mode": {
    "name": "ipython",
    "version": 3
   },
   "file_extension": ".py",
   "mimetype": "text/x-python",
   "name": "python",
   "nbconvert_exporter": "python",
   "pygments_lexer": "ipython3",
   "version": "3.10.4"
  }
 },
 "nbformat": 4,
 "nbformat_minor": 2
}
